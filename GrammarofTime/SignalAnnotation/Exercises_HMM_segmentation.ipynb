{
 "cells": [
  {
   "cell_type": "code",
   "execution_count": null,
   "metadata": {},
   "outputs": [],
   "source": [
    "from hmmlearn import hmm, base\n",
    "import numpy as np\n",
    "import math\n",
    "import matplotlib.pyplot as plt\n",
    "from tools.plot_tools import Cplot"
   ]
  },
  {
   "cell_type": "code",
   "execution_count": 175,
   "metadata": {},
   "outputs": [],
   "source": [
    "def Window_std(s, fs, window_len=50, window='hanning'):\n",
    "    output = np.zeros(len(s))\n",
    "    win = eval('np.' + window + '(window_len)')\n",
    "\n",
    "    if s.ndim != 1:\n",
    "        raise ValueError(\"smooth only accepts 1 dimension arrays.\")\n",
    "    if s.size < window_len:\n",
    "        raise ValueError(\"Input vector needs to be bigger than window size.\")\n",
    "    if window_len < 3:\n",
    "        return s\n",
    "\n",
    "    WinRange = int(window_len/2)\n",
    "\n",
    "    sig = np.r_[s[WinRange:0:-1], s, s[-1:len(s)-WinRange:-1]]\n",
    "    \n",
    "    for i in range(int(WinRange), len(sig) - int(WinRange)):\n",
    "        output[i - WinRange] = np.std(sig[i - WinRange:WinRange + i]*win)\n",
    "    \n",
    "    return output\n",
    "\n",
    "def Window_mean(s, fs, window_len=50, window='hanning'):\n",
    "    \n",
    "    output = np.zeros(len(s))\n",
    "    win = eval('np.' + window + '(window_len)')\n",
    "\n",
    "    if s.ndim != 1:\n",
    "        raise ValueError(\"smooth only accepts 1 dimension arrays.\")\n",
    "    if s.size < window_len:\n",
    "        raise ValueError(\"Input vector needs to be bigger than window size.\")\n",
    "    if window_len < 3:\n",
    "        return s\n",
    "\n",
    "    WinRange = int(window_len/2)\n",
    "\n",
    "    sig = np.r_[s[WinRange:0:-1], s, s[-1:len(s)-WinRange:-1]]\n",
    "    \n",
    "    for i in range(int(WinRange), len(sig) - int(WinRange)):\n",
    "        output[i - WinRange] = np.mean(sig[i - WinRange:WinRange + i]*win)\n",
    "    \n",
    "    return output\n",
    "\n",
    "def Window_zcr(s, fs, window_len=50, window=\"hanning\"):\n",
    "    \n",
    "    output = np.zeros(len(s))\n",
    "    win = eval('np.' + window + '(window_len)')\n",
    "\n",
    "    if s.ndim != 1:\n",
    "        raise ValueError(\"smooth only accepts 1 dimension arrays.\")\n",
    "    if s.size < window_len:\n",
    "        raise ValueError(\"Input vector needs to be bigger than window size.\")\n",
    "    if window_len < 3:\n",
    "        return s\n",
    "\n",
    "    WinRange = int(window_len/2)\n",
    "\n",
    "    sig = np.r_[s[WinRange:0:-1], s, s[-1:len(s)-WinRange:-1]]\n",
    "    \n",
    "\n",
    "    for i in range(int(WinRange), len(sig) - int(WinRange)):\n",
    "        output[i - int(WinRange)] = ZeroCrossingRate(sig[i - WinRange:WinRange + i]*win)\n",
    "    \n",
    "    return output\n",
    "\n",
    "def round_up_to_even(f):\n",
    "    return math.ceil(f / 2.) * 2\n",
    "\n",
    "def ZeroCrossingRate(signal):\n",
    "    signal = signal - np.mean(signal)\n",
    "    ZCVector = np.where(np.diff(np.sign(signal)))[0]\n",
    "\n",
    "    return len(ZCVector)\n",
    "    "
   ]
  },
  {
   "cell_type": "code",
   "execution_count": 2,
   "metadata": {},
   "outputs": [],
   "source": [
    "model = hmm.GaussianHMM(n_components=2, covariance_type=\"full\")\n",
    "model1 = hmm.GaussianHMM(n_components=2, covariance_type=\"full\")\n",
    "remodel = hmm.GaussianHMM(n_components=2, covariance_type=\"full\", n_iter=100)\n",
    "\n",
    "#starting probability\n",
    "model.startprob_ = np.array([0.1, 0.9])\n",
    "model1.startprob_ = np.array([0.2, 0.8])\n",
    "\n",
    "#State transition probability\n",
    "model.transmat_ = np.array([[0, 1],\n",
    "                            [1, 0]])\n",
    "\n",
    "model1.transmat_ = np.array([[0.8, 0.2],\n",
    "                            [0.7, 0.3]])\n",
    "\n",
    "\n",
    "#Means and covars for each state\n",
    "model.means_ = np.array([[0.0, 0.0], [1.0, 1.0]])\n",
    "model.covars_ = np.tile(np.identity(2), (3, 1, 1))\n",
    "\n",
    "model1.means_ = np.array([[0.0, 0.0], [1.0, 1.0]])\n",
    "model1.covars_ = np.tile(np.identity(2), (3, 1, 1))"
   ]
  },
  {
   "cell_type": "markdown",
   "metadata": {},
   "source": [
    "# Test hmm to learn to predict a $binary$ sequence based on $observations$"
   ]
  },
  {
   "cell_type": "code",
   "execution_count": 23,
   "metadata": {},
   "outputs": [],
   "source": [
    "X = []\n",
    "l = []\n",
    "for i in range(0, 10):\n",
    "    r1 = np.random.randint(10, 200)\n",
    "    r2 = np.random.randint(10, 200)\n",
    "    \n",
    "    s0 = np.zeros(r1)\n",
    "    s1 = np.ones(r2)\n",
    "    \n",
    "    s = np.r_[s0, s1]\n",
    "    \n",
    "    s = [[s_i] for s_i in s]\n",
    "\n",
    "    \n",
    "    X.append(s)\n",
    "    l.append(r1+r2)\n",
    "    \n",
    "X_train = np.concatenate(X)\n",
    "\n",
    "#train model with binary observations\n",
    "model = hmm.GaussianHMM(n_components=2).fit(X_train, l)"
   ]
  },
  {
   "cell_type": "code",
   "execution_count": 24,
   "metadata": {},
   "outputs": [
    {
     "name": "stdout",
     "output_type": "stream",
     "text": [
      "[0 0 0 0 0 0 1 1 1 1 1 1 1]\n"
     ]
    }
   ],
   "source": [
    "#test discovering states based on a sample observation\n",
    "X_test = [[0],[0],[0],[0],[0],[0],[1],[1],[1],[1],[1],[1],[1]]\n",
    "Z = model.predict(X_test)\n",
    "print(Z)"
   ]
  },
  {
   "cell_type": "markdown",
   "metadata": {},
   "source": [
    "# Test hmm to learn to generate a a $continuous$ sequence based on a $observations$"
   ]
  },
  {
   "cell_type": "code",
   "execution_count": 85,
   "metadata": {},
   "outputs": [],
   "source": [
    "X = []\n",
    "l = []\n",
    "\n",
    "for i in range(0, 10):\n",
    "    \n",
    "    lgth = np.random.randint(20, 200)\n",
    "    \n",
    "    noise = np.random.normal(0, 1, lgth)\n",
    "    \n",
    "    s0 = noise*np.ones(lgth)+10\n",
    "    s1 = noise*np.ones(lgth)\n",
    "    \n",
    "    s = np.r_[s0, s1]\n",
    "    \n",
    "    #extract features of my signal (std and mean)\n",
    "    s_m = Window_mean(s, 1, window_len=round_up_to_even(lgth/20))\n",
    "    s_std = Window_std(s, 1, window_len=round_up_to_even(lgth/20))\n",
    "    \n",
    "    X_i = [[s_i_m, s_i_std] for s_i_m, s_i_std in zip(s_m, s_std)]\n",
    "\n",
    "    X.append(X_i)\n",
    "    l.append(len(s))\n",
    "    \n",
    "X_train = np.concatenate(X)\n",
    "\n",
    "#train model with binary observations\n",
    "model = hmm.GaussianHMM(n_components=2).fit(X_train, l)"
   ]
  },
  {
   "cell_type": "code",
   "execution_count": 95,
   "metadata": {},
   "outputs": [
    {
     "name": "stdout",
     "output_type": "stream",
     "text": [
      "[0 0 0 0 0 0 0 0 0 0 0 0 0 0 0 0 0 0 0 0 0 0 0 0 0 0 0 0 0 0 0 0 0 0 0 0 0\n",
      " 0 0 0 0 0 0 0 0 0 0 0 0 0 0 0 0 0 0 0 0 0 0 0 0 0 0 0 0 0 0 0 0 0 0 0 0 0\n",
      " 0 0 0 0 0 0 0 0 0 0 0 0 0 0 0 0 0 0 0 0 0 0 0 0 0 0 0 0 1 1 1 1 1 1 1 1 1\n",
      " 1 1 1 1 1 1 1 1 1 1 1 1 1 1 1 1 1 1 1 1 1 1 1 1 1 1 1 1 1 1 1 1 1 1 1 1 1\n",
      " 1 1 1 1 1 1 1 1 1 1 1 1 1 1 1 1 1 1 1 1 1 1 1 1 1 1 1 1 1 1 1 1 1 1 1 1 1\n",
      " 1 1 1 1 1 1 1 1 1 1 1 1 1 1 1 0 0 0 0 0 0 0 0 0 0 0 0 0 0 0 0 0 0 0 0 0 0\n",
      " 0 0 0 0 0 0 0 0 0 0 0 0 0 0 0 0 0 0 0 0 0 0 0 0 0 0 0 0 0 0 0 0 0 0 0 0 0\n",
      " 0 0 0 0 0 0 0 0 0 0 0 0 0 0 0 0 0 0 0 0 0 0 0 0 0 0 0 0 0 0 0 0 0 0 0 0 0\n",
      " 0 0 0 1]\n"
     ]
    }
   ],
   "source": [
    "#test discovering states based on a sample observation\n",
    "#generate new signal\n",
    "lgth = 100\n",
    "\n",
    "noise = np.random.normal(0, 1, lgth)\n",
    "\n",
    "s0 = noise*np.ones(lgth)+10\n",
    "s1 = noise*np.ones(lgth)\n",
    "\n",
    "s = np.r_[s0, s1, s0]\n",
    "\n",
    "#extract features of my signal (std and mean)\n",
    "s_m = Window_mean(s, 1, window_len=round_up_to_even(lgth/20))\n",
    "s_std = Window_std(s, 1, window_len=round_up_to_even(lgth/20))\n",
    "\n",
    "X_test = [[s_i_m, s_i_std] for s_i_m, s_i_std in zip(s_m, s_std)]\n",
    "\n",
    "Z = model.predict(X_test)\n",
    "print(Z)"
   ]
  },
  {
   "cell_type": "code",
   "execution_count": null,
   "metadata": {},
   "outputs": [
    {
     "data": {
      "image/png": "[encoded data removed]",
      "text/plain": [
       "<Figure size 432x288 with 1 Axes>"
      ]
     },
     "metadata": {
      "needs_background": "light"
     },
     "output_type": "display_data"
    }
   ],
   "source": [
    "Cplot(s)\n",
    "Cplot(Z)\n",
    "\n",
    "plt.show()"
   ]
  },
  {
   "cell_type": "markdown",
   "metadata": {},
   "source": [
    "# Test hmm to learn to generate a a $continuous$ sequence based on a $observations$"
   ]
  },
  {
   "cell_type": "markdown",
   "metadata": {},
   "source": [
    "### Test with higher noise presence"
   ]
  },
  {
   "cell_type": "code",
   "execution_count": 184,
   "metadata": {},
   "outputs": [],
   "source": [
    "X = []\n",
    "l = []\n",
    "\n",
    "for i in range(0, 200):\n",
    "    \n",
    "    lgth = np.random.randint(20, 200)\n",
    "    amp = np.random.randint(2, 30)\n",
    "    noise = np.random.normal(0, 1, lgth)\n",
    "    \n",
    "    s0 = amp*noise*np.ones(lgth)\n",
    "    s1 = noise*np.ones(lgth)\n",
    "    \n",
    "    s = np.r_[s0, s1]\n",
    "    \n",
    "    #extract features of my signal (std and mean)\n",
    "    s_m = Window_mean(s, 1, window_len=round_up_to_even(lgth/20))\n",
    "    s_std = Window_std(s, 1, window_len=round_up_to_even(lgth/20))\n",
    "    \n",
    "    X_i = [[s_i_m, s_i_std] for s_i_m, s_i_std in zip(s_m, s_std)]\n",
    "\n",
    "    X.append(X_i)\n",
    "    l.append(len(s))\n",
    "    \n",
    "X_train = np.concatenate(X)\n",
    "\n",
    "#train model with binary observations\n",
    "model = hmm.GaussianHMM(n_components=2).fit(X_train, l)"
   ]
  },
  {
   "cell_type": "code",
   "execution_count": 185,
   "metadata": {},
   "outputs": [
    {
     "name": "stdout",
     "output_type": "stream",
     "text": [
      "[1 1 1 1 1 1 1 1 1 1 1 1 1 1 1 1 1 1 1 1 1 1 1 1 1 1 1 1 1 1 1 1 1 1 1 1 1\n",
      " 1 1 1 1 1 1 1 1 1 1 1 1 1 1 1 1 1 1 1 1 1 1 1 1 1 1 1 1 1 1 1 1 1 1 1 1 1\n",
      " 1 1 1 1 1 1 1 1 1 1 1 1 1 1 1 1 1 1 1 1 1 1 1 1 1 1 1 0 0 0 0 0 0 0 0 0 0\n",
      " 0 0 0 0 0 0 0 0 0 0 0 0 0 0 0 0 0 0 0 0 0 0 0 0 0 0 0 0 0 0 0 0 0 0 0 0 0\n",
      " 0 0 0 0 0 0 0 0 0 0 0 0 0 0 0 0 0 0 0 0 0 0 0 0 0 0 0 0 0 0 0 0 0 0 0 0 0\n",
      " 0 0 0 0 0 0 0 0 0 0 0 0 0 0 1 1 1 1 1 1 1 1 1 1 1 1 1 1 1 1 1 1 1 1 1 1 1\n",
      " 1 1 1 1 1 1 1 1 1 1 1 1 1 1 1 1 1 1 1 1 1 1 1 1 1 1 1 1 1 1 1 1 1 1 1 1 1\n",
      " 1 1 1 1 1 1 1 1 1 1 1 1 1 1 1 1 1 1 1 1 1 1 1 1 1 1 1 1 1 1 1 1 1 1 1 1 1\n",
      " 1 1 1 0]\n"
     ]
    }
   ],
   "source": [
    "#test discovering states based on a sample observation\n",
    "#generate new signal\n",
    "lgth = 100\n",
    "\n",
    "noise = np.random.normal(0, 1, lgth)\n",
    "\n",
    "s0 = 10*noise*np.ones(lgth)\n",
    "s1 = noise*np.ones(lgth)\n",
    "\n",
    "s = np.r_[s0, s1, s0]\n",
    "\n",
    "#extract features of my signal (std and mean)\n",
    "s_m = Window_mean(s, 1, window_len=round_up_to_even(lgth/20))\n",
    "s_std = Window_std(s, 1, window_len=round_up_to_even(lgth/20))\n",
    "\n",
    "X_test = [[s_i_m, s_i_std] for s_i_m, s_i_std in zip(s_m, s_std)]\n",
    "\n",
    "Z = model.predict(X_test)\n",
    "print(Z)"
   ]
  },
  {
   "cell_type": "code",
   "execution_count": 186,
   "metadata": {},
   "outputs": [
    {
     "data": {
      "image/png": "[encoded data removed]",
      "text/plain": [
       "<Figure size 432x288 with 1 Axes>"
      ]
     },
     "metadata": {
      "needs_background": "light"
     },
     "output_type": "display_data"
    }
   ],
   "source": [
    "plt.plot(s)\n",
    "plt.plot(10*Z)\n",
    "\n",
    "plt.show()"
   ]
  },
  {
   "cell_type": "markdown",
   "metadata": {},
   "source": [
    "### Test with difference in frequency"
   ]
  },
  {
   "cell_type": "code",
   "execution_count": 257,
   "metadata": {},
   "outputs": [],
   "source": [
    "#generate sine wave with different frequencies\n",
    "X_zcr = []\n",
    "X_m = []\n",
    "l = []\n",
    "\n",
    "time = np.linspace(0, 50, 1000)\n",
    "\n",
    "for i in range(0, 100):\n",
    "    \n",
    "    amp = np.random.randint(2, 30)\n",
    "    freq1 = np.random.randint(2, 10)\n",
    "    freq2 = np.random.randint(11, 20)\n",
    "    freq3 = np.random.randint(20, 100)\n",
    "    \n",
    "    s0 = amp*np.sin(freq1*time)\n",
    "    s1 = amp*np.sin(freq2*time)\n",
    "    s2 = amp*np.sin(freq3*time)\n",
    "    \n",
    "    s = np.r_[s0, s1, s2]\n",
    "    \n",
    "    #extract features of my signal (std and mean)\n",
    "#     s_m = Window_mean(s, 1, window_len=round_up_to_even(lgth/20))\n",
    "    s_zcr = Window_zcr(s, 1, window_len=round_up_to_even(len(time)/20))\n",
    "    \n",
    "    \n",
    "    X_i_zcr = [[s_i_zcr] for s_i_zcr in s_zcr]\n",
    "#     X_i_m = [[s_i_m] for s_i_m in s_m]\n",
    "    \n",
    "    X_zcr.append(X_i_zcr)\n",
    "#     X_m.append(X_i_m)\n",
    "    l.append(len(s))\n"
   ]
  },
  {
   "cell_type": "code",
   "execution_count": 259,
   "metadata": {},
   "outputs": [],
   "source": [
    "X_train_zcr = np.concatenate(X_zcr)\n",
    "# X_train_m = np.concatenate(X_m)\n",
    "# print(X[0:10])\n",
    "# X_train = X\n",
    "#train model with binary observations\n",
    "model_zcr = hmm.GaussianHMM(n_components=4).fit(X_train_zcr, l)\n",
    "# model_m = hmm.GaussianHMM(n_components=2).fit(X_train_m, l)"
   ]
  },
  {
   "cell_type": "code",
   "execution_count": 292,
   "metadata": {},
   "outputs": [
    {
     "name": "stdout",
     "output_type": "stream",
     "text": [
      "[0 0 0 ... 2 2 2]\n"
     ]
    }
   ],
   "source": [
    "#test discovering states based on a sample observation\n",
    "#generate new signal\n",
    "time = np.linspace(0, 50, 1000)\n",
    "\n",
    "\n",
    "\n",
    "s0 = 5*np.sin(40*time)\n",
    "s1 = 5*np.sin(time)\n",
    "s2 = 5*np.sin(10*time)\n",
    "\n",
    "s = np.r_[s2, s1, s0, s1]\n",
    "\n",
    "#extract features of my signal (std and mean)\n",
    "# s_m = Window_mean(s, 1, window_len=round_up_to_even(lgth/20))\n",
    "# s_std = Window_std(s, 1, window_len=round_up_to_even(lgth/20))\n",
    "s_zcr = Window_zcr(s, 1, window_len=round_up_to_even(len(time)/10))\n",
    "# s_m = Window_mean(s, 1, window_len=round_up_to_even(len(time)/20))\n",
    "\n",
    "X_test_zcr = [[s_zcr_i] for s_zcr_i in s_zcr]\n",
    "# X_test_mean = [[s_m_i] for s_m_i in s_m]\n",
    "\n",
    "Z_zcr = model_zcr.predict(X_test_zcr)\n",
    "# Z_m = model.predict(X_test_mean)\n",
    "\n",
    "Z_zcr\n",
    "print(Z_zcr)"
   ]
  },
  {
   "cell_type": "code",
   "execution_count": 293,
   "metadata": {},
   "outputs": [
    {
     "data": {
      "image/png": "[encoded data removed]",
      "text/plain": [
       "<Figure size 432x288 with 1 Axes>"
      ]
     },
     "metadata": {
      "needs_background": "light"
     },
     "output_type": "display_data"
    }
   ],
   "source": [
    "plt.plot(s)\n",
    "plt.plot(10*Z_zcr)\n",
    "# plt.plot(10*Z_m)\n",
    "plt.show()"
   ]
  },
  {
   "cell_type": "code",
   "execution_count": null,
   "metadata": {},
   "outputs": [],
   "source": []
  }
 ],
 "metadata": {
  "kernelspec": {
   "display_name": "Python 3",
   "language": "python",
   "name": "python3"
  },
  "language_info": {
   "codemirror_mode": {
    "name": "ipython",
    "version": 3
   },
   "file_extension": ".py",
   "mimetype": "text/x-python",
   "name": "python",
   "nbconvert_exporter": "python",
   "pygments_lexer": "ipython3",
   "version": "3.6.8"
  }
 },
 "nbformat": 4,
 "nbformat_minor": 1
}
