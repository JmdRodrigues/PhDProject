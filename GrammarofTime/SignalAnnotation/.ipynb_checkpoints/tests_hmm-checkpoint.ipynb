{
 "cells": [
  {
   "cell_type": "code",
   "execution_count": null,
   "metadata": {},
   "outputs": [
    {
     "ename": "ImportError",
     "evalue": "cannot import name 'log_likelihood_increasing'",
     "traceback": [
      "\u001b[0;31m---------------------------------------------------------------------------\u001b[0m",
      "\u001b[0;31mImportError\u001b[0m                               Traceback (most recent call last)",
      "\u001b[0;32m<ipython-input-132-ba6bde2142a4>\u001b[0m in \u001b[0;36m<module>\u001b[0;34m\u001b[0m\n\u001b[0;32m----> 1\u001b[0;31m \u001b[0;32mfrom\u001b[0m \u001b[0mhmmlearn\u001b[0m \u001b[0;32mimport\u001b[0m \u001b[0mhmm\u001b[0m\u001b[0;34m,\u001b[0m \u001b[0mbase\u001b[0m\u001b[0;34m,\u001b[0m \u001b[0mlog_likelihood_increasing\u001b[0m\u001b[0;34m\u001b[0m\u001b[0;34m\u001b[0m\u001b[0m\n\u001b[0m\u001b[1;32m      2\u001b[0m \u001b[0;32mimport\u001b[0m \u001b[0mnumpy\u001b[0m \u001b[0;32mas\u001b[0m \u001b[0mnp\u001b[0m\u001b[0;34m\u001b[0m\u001b[0;34m\u001b[0m\u001b[0m\n",
      "\u001b[0;31mImportError\u001b[0m: cannot import name 'log_likelihood_increasing'"
     ],
     "output_type": "error"
    }
   ],
   "source": [
    "from hmmlearn import hmm, base\n",
    "import numpy as np"
   ]
  },
  {
   "cell_type": "code",
   "execution_count": 67,
   "metadata": {},
   "outputs": [],
   "source": [
    "#Example of using HMM - Generate samples with HMM model"
   ]
  },
  {
   "cell_type": "code",
   "execution_count": 163,
   "metadata": {},
   "outputs": [],
   "source": [
    "model = hmm.GaussianHMM(n_components=2, covariance_type=\"full\")\n",
    "model1 = hmm.GaussianHMM(n_components=2, covariance_type=\"full\")\n",
    "remodel = hmm.GaussianHMM(n_components=2, covariance_type=\"full\", n_iter=100)\n",
    "\n",
    "#starting probability\n",
    "model.startprob_ = np.array([0.1, 0.9])\n",
    "model1.startprob_ = np.array([0.2, 0.8])\n",
    "\n",
    "#State transition probability\n",
    "model.transmat_ = np.array([[0, 1],\n",
    "                            [1, 0]])\n",
    "\n",
    "model1.transmat_ = np.array([[0.8, 0.2],\n",
    "                            [0.7, 0.3]])\n",
    "\n",
    "\n",
    "#Means and covars for each state\n",
    "model.means_ = np.array([[0.0, 0.0], [1.0, 1.0]])\n",
    "model.covars_ = np.tile(np.identity(2), (3, 1, 1))\n",
    "\n",
    "model1.means_ = np.array([[0.0, 0.0], [1.0, 1.0]])\n",
    "model1.covars_ = np.tile(np.identity(2), (3, 1, 1))"
   ]
  },
  {
   "cell_type": "code",
   "execution_count": 170,
   "metadata": {},
   "outputs": [],
   "source": [
    "# X - feature matrix for individual observations\n",
    "# Z - observations\n",
    "X, Z = model.sample(100)\n",
    "X1, Z1 = model1.sample(100)"
   ]
  },
  {
   "cell_type": "code",
   "execution_count": 173,
   "metadata": {},
   "outputs": [
    {
     "name": "stdout",
     "output_type": "stream",
     "text": [
      "-282.2300265424572\n",
      "-332.72201157427327\n"
     ]
    }
   ],
   "source": [
    "#Example - Find probability of a sequence belonging to the model\n",
    "h_learn = hmm.GaussianHMM(n_components = 2, covariance_type=\"full\",\n",
    "                                  params=\"stmc\")\n",
    "h_learn2 = hmm.GaussianHMM(n_components=2, covariance_type=\"full\", params=\"stmc\", algorithm=\"map\")\n",
    "h_learn.n_iter = 100\n",
    "h_learn2.n_iter = 100\n",
    "\n",
    "h_learn.fit(X)\n",
    "h_learn2.fit(X1)\n",
    "print(h_learn.score(X))\n",
    "print(h_learn.score(X1))"
   ]
  },
  {
   "cell_type": "code",
   "execution_count": 174,
   "metadata": {},
   "outputs": [
    {
     "name": "stdout",
     "output_type": "stream",
     "text": [
      "[0 1 0 1 0 1 0 1 0 1 0 1 0 1 0 1 0 1 0 1 0 1 0 1 0 1 0 1 0 1 0 1 0 1 0 1 0\n",
      " 1 0 1 0 1 0 1 0 1 0 1 0 1 0 1 0 1 0 1 0 1 0 1 0 1 0 1 0 1 0 1 0 1 0 1 0 1\n",
      " 0 1 0 1 0 1 0 1 0 1 0 1 0 1 0 1 0 1 0 1 0 1 0 1 0 1]\n",
      "[0 1 0 1 1 1 1 1 1 0 1 0 1 1 1 0 0 1 1 0 0 1 1 0 1 1 1 1 0 1 1 1 1 1 1 1 0\n",
      " 1 0 1 1 1 1 1 0 1 1 1 1 0 0 1 1 1 0 1 1 1 1 0 0 1 0 1 0 1 1 1 1 1 1 1 1 1\n",
      " 0 1 1 1 1 1 1 1 1 1 1 0 1 0 0 1 1 0 0 1 1 0 1 0 1 0]\n"
     ]
    }
   ],
   "source": [
    "Z_pred = h_learn.predict(X)\n",
    "Z_pred2 = h_learn2.predict(X1)\n"
   ]
  },
  {
   "cell_type": "code",
   "execution_count": null,
   "metadata": {},
   "outputs": [],
   "source": [
    ""
   ]
  },
  {
   "cell_type": "code",
   "execution_count": null,
   "metadata": {},
   "outputs": [],
   "source": []
  },
  {
   "cell_type": "code",
   "execution_count": null,
   "metadata": {},
   "outputs": [],
   "source": []
  }
 ],
 "metadata": {
  "kernelspec": {
   "display_name": "Python 3",
   "language": "python",
   "name": "python3"
  },
  "language_info": {
   "codemirror_mode": {
    "name": "ipython",
    "version": 3
   },
   "file_extension": ".py",
   "mimetype": "text/x-python",
   "name": "python",
   "nbconvert_exporter": "python",
   "pygments_lexer": "ipython3",
   "version": "3.6.8"
  }
 },
 "nbformat": 4,
 "nbformat_minor": 1
}
