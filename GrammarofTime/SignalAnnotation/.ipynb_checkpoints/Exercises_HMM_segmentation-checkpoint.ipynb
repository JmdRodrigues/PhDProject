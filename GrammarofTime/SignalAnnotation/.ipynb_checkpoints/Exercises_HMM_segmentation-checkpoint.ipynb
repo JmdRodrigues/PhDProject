{
 "cells": [
  {
   "cell_type": "code",
   "execution_count": 2,
   "metadata": {},
   "outputs": [],
   "source": [
    "from hmmlearn import hmm, base\n",
    "import numpy as np\n",
    "import math\n",
    "import matplotlib.pyplot as plt"
   ]
  },
  {
   "cell_type": "code",
   "execution_count": 4,
   "metadata": {},
   "outputs": [],
   "source": [
    "def Window_std(s, fs, window_len=50, window='hanning'):\n",
    "    output = np.zeros(len(s))\n",
    "    win = eval('np.' + window + '(window_len)')\n",
    "\n",
    "    if s.ndim != 1:\n",
    "        raise ValueError(\"smooth only accepts 1 dimension arrays.\")\n",
    "    if s.size < window_len:\n",
    "        raise ValueError(\"Input vector needs to be bigger than window size.\")\n",
    "    if window_len < 3:\n",
    "        return s\n",
    "\n",
    "    WinRange = int(window_len/2)\n",
    "\n",
    "    sig = np.r_[s[WinRange:0:-1], s, s[-1:len(s)-WinRange:-1]]\n",
    "    \n",
    "    for i in range(int(WinRange), len(sig) - int(WinRange)):\n",
    "        output[i - WinRange] = np.std(sig[i - WinRange:WinRange + i]*win)\n",
    "    \n",
    "    return output\n",
    "\n",
    "def Window_mean(s, fs, window_len=50, window='hanning'):\n",
    "    \n",
    "    output = np.zeros(len(s))\n",
    "    win = eval('np.' + window + '(window_len)')\n",
    "\n",
    "    if s.ndim != 1:\n",
    "        raise ValueError(\"smooth only accepts 1 dimension arrays.\")\n",
    "    if s.size < window_len:\n",
    "        raise ValueError(\"Input vector needs to be bigger than window size.\")\n",
    "    if window_len < 3:\n",
    "        return s\n",
    "\n",
    "    WinRange = int(window_len/2)\n",
    "\n",
    "    sig = np.r_[s[WinRange:0:-1], s, s[-1:len(s)-WinRange:-1]]\n",
    "    \n",
    "    for i in range(int(WinRange), len(sig) - int(WinRange)):\n",
    "        output[i - WinRange] = np.mean(sig[i - WinRange:WinRange + i]*win)\n",
    "    \n",
    "    return output\n",
    "\n",
    "def Window_zcr(s, fs, window_len=50, window=\"hanning\"):\n",
    "    \n",
    "    output = np.zeros(len(s))\n",
    "    win = eval('np.' + window + '(window_len)')\n",
    "\n",
    "    if s.ndim != 1:\n",
    "        raise ValueError(\"smooth only accepts 1 dimension arrays.\")\n",
    "    if s.size < window_len:\n",
    "        raise ValueError(\"Input vector needs to be bigger than window size.\")\n",
    "    if window_len < 3:\n",
    "        return s\n",
    "\n",
    "    WinRange = int(window_len/2)\n",
    "\n",
    "    sig = np.r_[s[WinRange:0:-1], s, s[-1:len(s)-WinRange:-1]]\n",
    "    \n",
    "\n",
    "    for i in range(int(WinRange), len(sig) - int(WinRange)):\n",
    "        output[i - int(WinRange)] = ZeroCrossingRate(sig[i - WinRange:WinRange + i]*win)\n",
    "    \n",
    "    return output\n",
    "\n",
    "def round_up_to_even(f):\n",
    "    return math.ceil(f / 2.) * 2\n",
    "\n",
    "def ZeroCrossingRate(signal):\n",
    "    signal = signal - np.mean(signal)\n",
    "    ZCVector = np.where(np.diff(np.sign(signal)))[0]\n",
    "\n",
    "    return len(ZCVector)\n",
    "    "
   ]
  },
  {
   "cell_type": "code",
   "execution_count": 159,
   "metadata": {},
   "outputs": [],
   "source": [
    "from hmmlearn.base import ConvergenceMonitor\n",
    "class ThresholdMonitor(ConvergenceMonitor):\n",
    "    @property\n",
    "    def converged(self):\n",
    "        return (self.iter == self.n_iter or\n",
    "                self.history[-1] >= self.tol)"
   ]
  },
  {
   "cell_type": "code",
   "execution_count": 5,
   "metadata": {},
   "outputs": [],
   "source": [
    "model = hmm.GaussianHMM(n_components=2, covariance_type=\"full\")\n",
    "model1 = hmm.GaussianHMM(n_components=2, covariance_type=\"full\")\n",
    "remodel = hmm.GaussianHMM(n_components=2, covariance_type=\"full\", n_iter=100)\n",
    "\n",
    "#starting probability\n",
    "model.startprob_ = np.array([0.1, 0.9])\n",
    "model1.startprob_ = np.array([0.2, 0.8])\n",
    "\n",
    "#State transition probability\n",
    "model.transmat_ = np.array([[0, 1],\n",
    "                            [1, 0]])\n",
    "\n",
    "model1.transmat_ = np.array([[0.8, 0.2],\n",
    "                            [0.7, 0.3]])\n",
    "\n",
    "\n",
    "#Means and covars for each state\n",
    "model.means_ = np.array([[0.0, 0.0], [1.0, 1.0]])\n",
    "model.covars_ = np.tile(np.identity(2), (3, 1, 1))\n",
    "\n",
    "model1.means_ = np.array([[0.0, 0.0], [1.0, 1.0]])\n",
    "model1.covars_ = np.tile(np.identity(2), (3, 1, 1))"
   ]
  },
  {
   "cell_type": "markdown",
   "metadata": {},
   "source": [
    "# Test hmm to learn to predict a $binary$ sequence based on $observations$"
   ]
  },
  {
   "cell_type": "code",
   "execution_count": 6,
   "metadata": {},
   "outputs": [],
   "source": [
    "X = []\n",
    "l = []\n",
    "for i in range(0, 10):\n",
    "    r1 = np.random.randint(10, 200)\n",
    "    r2 = np.random.randint(10, 200)\n",
    "    \n",
    "    s0 = np.zeros(r1)\n",
    "    s1 = np.ones(r2)\n",
    "    \n",
    "    s = np.r_[s0, s1]\n",
    "    \n",
    "    s = [[s_i] for s_i in s]\n",
    "\n",
    "    \n",
    "    X.append(s)\n",
    "    l.append(r1+r2)\n",
    "    \n",
    "X_train = np.concatenate(X)\n",
    "\n",
    "#train model with binary observations\n",
    "model = hmm.GaussianHMM(n_components=2).fit(X_train, l)"
   ]
  },
  {
   "cell_type": "code",
   "execution_count": 7,
   "metadata": {},
   "outputs": [
    {
     "name": "stdout",
     "output_type": "stream",
     "text": [
      "[1 1 1 1 1 1 0 0 0 0 0 0 0]\n"
     ]
    }
   ],
   "source": [
    "#test discovering states based on a sample observation\n",
    "X_test = [[0],[0],[0],[0],[0],[0],[1],[1],[1],[1],[1],[1],[1]]\n",
    "Z = model.predict(X_test)\n",
    "print(Z)"
   ]
  },
  {
   "cell_type": "markdown",
   "metadata": {},
   "source": [
    "# Test hmm to learn to generate a a $continuous$ sequence based on a $observations$"
   ]
  },
  {
   "cell_type": "code",
   "execution_count": 8,
   "metadata": {},
   "outputs": [],
   "source": [
    "X = []\n",
    "l = []\n",
    "\n",
    "for i in range(0, 10):\n",
    "    \n",
    "    lgth = np.random.randint(20, 200)\n",
    "    \n",
    "    noise = np.random.normal(0, 1, lgth)\n",
    "    \n",
    "    s0 = noise*np.ones(lgth)+10\n",
    "    s1 = noise*np.ones(lgth)\n",
    "    \n",
    "    s = np.r_[s0, s1]\n",
    "    \n",
    "    #extract features of my signal (std and mean)\n",
    "    s_m = Window_mean(s, 1, window_len=round_up_to_even(lgth/20))\n",
    "    s_std = Window_std(s, 1, window_len=round_up_to_even(lgth/20))\n",
    "    \n",
    "    X_i = [[s_i_m, s_i_std] for s_i_m, s_i_std in zip(s_m, s_std)]\n",
    "\n",
    "    X.append(X_i)\n",
    "    l.append(len(s))\n",
    "    \n",
    "X_train = np.concatenate(X)\n",
    "\n",
    "#train model with binary observations\n",
    "model = hmm.GaussianHMM(n_components=2).fit(X_train, l)"
   ]
  },
  {
   "cell_type": "code",
   "execution_count": 9,
   "metadata": {},
   "outputs": [
    {
     "name": "stdout",
     "output_type": "stream",
     "text": [
      "[1 1 1 1 1 1 1 1 1 1 1 1 1 1 1 1 1 1 1 1 1 1 1 1 1 1 1 1 1 1 1 1 1 1 1 1 1\n",
      " 1 1 1 1 1 1 1 1 1 1 1 1 1 1 1 1 1 1 1 1 1 1 1 1 1 1 1 1 1 1 1 1 1 1 1 1 1\n",
      " 1 1 1 1 1 1 1 1 1 1 1 1 1 1 1 1 1 1 1 1 1 1 1 1 1 1 1 0 0 0 0 0 0 0 0 0 0\n",
      " 0 0 0 0 0 0 0 0 0 0 0 0 0 0 0 0 0 0 0 0 0 0 0 0 0 0 0 0 0 0 0 0 0 0 0 0 0\n",
      " 0 0 0 0 0 0 0 0 0 0 0 0 0 0 0 0 0 0 0 0 0 0 0 0 0 0 0 0 0 0 0 0 0 0 0 0 0\n",
      " 0 0 0 0 0 0 0 0 0 0 0 0 0 0 0 1 1 1 1 1 1 1 1 1 1 1 1 1 1 1 1 1 1 1 1 1 1\n",
      " 1 1 1 1 1 1 1 1 1 1 1 1 1 1 1 1 1 1 1 1 1 1 1 1 1 1 1 1 1 1 1 1 1 1 1 1 1\n",
      " 1 1 1 1 1 1 1 1 1 1 1 1 1 1 1 1 1 1 1 1 1 1 1 1 1 1 1 1 1 1 1 1 1 1 1 1 1\n",
      " 1 1 1 0]\n"
     ]
    }
   ],
   "source": [
    "#test discovering states based on a sample observation\n",
    "#generate new signal\n",
    "lgth = 100\n",
    "\n",
    "noise = np.random.normal(0, 1, lgth)\n",
    "\n",
    "s0 = noise*np.ones(lgth)+10\n",
    "s1 = noise*np.ones(lgth)\n",
    "\n",
    "s = np.r_[s0, s1, s0]\n",
    "\n",
    "#extract features of my signal (std and mean)\n",
    "s_m = Window_mean(s, 1, window_len=round_up_to_even(lgth/20))\n",
    "s_std = Window_std(s, 1, window_len=round_up_to_even(lgth/20))\n",
    "\n",
    "X_test = [[s_i_m, s_i_std] for s_i_m, s_i_std in zip(s_m, s_std)]\n",
    "\n",
    "Z = model.predict(X_test)\n",
    "print(Z)"
   ]
  },
  {
   "cell_type": "code",
   "execution_count": 10,
   "metadata": {},
   "outputs": [
    {
     "data": {
      "image/png": "[encoded data removed]",
      "text/plain": [
       "<Figure size 432x288 with 1 Axes>"
      ]
     },
     "metadata": {
      "needs_background": "light"
     },
     "output_type": "display_data"
    }
   ],
   "source": [
    "plt.plot(s)\n",
    "plt.plot(Z)\n",
    "\n",
    "plt.show()"
   ]
  },
  {
   "cell_type": "markdown",
   "metadata": {},
   "source": [
    "# Test hmm to learn to generate a a $continuous$ sequence based on a $observations$"
   ]
  },
  {
   "cell_type": "markdown",
   "metadata": {},
   "source": [
    "### Test with higher noise presence"
   ]
  },
  {
   "cell_type": "code",
   "execution_count": 11,
   "metadata": {},
   "outputs": [],
   "source": [
    "X = []\n",
    "l = []\n",
    "\n",
    "for i in range(0, 200):\n",
    "    \n",
    "    lgth = np.random.randint(20, 200)\n",
    "    amp = np.random.randint(2, 30)\n",
    "    noise = np.random.normal(0, 1, lgth)\n",
    "    \n",
    "    s0 = amp*noise*np.ones(lgth)\n",
    "    s1 = noise*np.ones(lgth)\n",
    "    \n",
    "    s = np.r_[s0, s1]\n",
    "    \n",
    "    #extract features of my signal (std and mean)\n",
    "    s_m = Window_mean(s, 1, window_len=round_up_to_even(lgth/20))\n",
    "    s_std = Window_std(s, 1, window_len=round_up_to_even(lgth/20))\n",
    "    \n",
    "    X_i = [[s_i_m, s_i_std] for s_i_m, s_i_std in zip(s_m, s_std)]\n",
    "\n",
    "    X.append(X_i)\n",
    "    l.append(len(s))\n",
    "    \n",
    "X_train = np.concatenate(X)\n",
    "\n",
    "#train model with binary observations\n",
    "model = hmm.GaussianHMM(n_components=2).fit(X_train, l)"
   ]
  },
  {
   "cell_type": "code",
   "execution_count": 12,
   "metadata": {},
   "outputs": [
    {
     "name": "stdout",
     "output_type": "stream",
     "text": [
      "[1 1 1 1 1 1 1 1 1 1 1 1 1 1 1 1 1 1 1 1 1 1 1 1 1 1 1 1 1 1 1 1 1 1 1 1 1\n",
      " 1 1 1 1 1 1 1 1 1 1 1 1 1 1 1 1 1 1 1 1 1 1 1 1 1 1 1 1 1 1 1 1 1 1 1 1 1\n",
      " 1 1 1 1 1 1 1 1 1 0 0 1 1 1 1 1 1 1 1 1 1 1 1 1 1 1 1 1 0 0 0 0 0 0 0 0 0\n",
      " 0 0 0 0 0 0 0 0 0 0 0 0 0 0 0 0 0 0 0 0 0 0 0 0 0 0 0 0 0 0 0 0 0 0 0 0 0\n",
      " 0 0 0 0 0 0 0 0 0 0 0 0 0 0 0 0 0 0 0 0 0 0 0 0 0 0 0 0 0 0 0 0 0 0 0 0 0\n",
      " 0 0 0 0 0 0 0 0 0 0 0 0 0 0 1 1 1 1 1 1 1 1 1 1 1 1 1 1 1 1 1 1 1 1 1 1 1\n",
      " 1 1 1 1 1 1 1 1 1 1 1 1 1 1 1 1 1 1 1 1 1 1 1 1 1 1 1 1 1 1 1 1 1 1 1 1 1\n",
      " 1 1 1 1 1 1 1 1 1 1 1 1 1 1 1 1 1 1 1 1 1 1 1 1 0 0 1 1 1 1 1 1 1 1 1 1 1\n",
      " 1 1 1 0]\n"
     ]
    }
   ],
   "source": [
    "#test discovering states based on a sample observation\n",
    "#generate new signal\n",
    "lgth = 100\n",
    "\n",
    "noise = np.random.normal(0, 1, lgth)\n",
    "\n",
    "s0 = 10*noise*np.ones(lgth)\n",
    "s1 = noise*np.ones(lgth)\n",
    "\n",
    "s = np.r_[s0, s1, s0]\n",
    "\n",
    "#extract features of my signal (std and mean)\n",
    "s_m = Window_mean(s, 1, window_len=round_up_to_even(lgth/20))\n",
    "s_std = Window_std(s, 1, window_len=round_up_to_even(lgth/20))\n",
    "\n",
    "X_test = [[s_i_m, s_i_std] for s_i_m, s_i_std in zip(s_m, s_std)]\n",
    "\n",
    "Z = model.predict(X_test)\n",
    "print(Z)"
   ]
  },
  {
   "cell_type": "code",
   "execution_count": 13,
   "metadata": {},
   "outputs": [
    {
     "data": {
      "image/png": "[encoded data removed]",
      "text/plain": [
       "<Figure size 432x288 with 1 Axes>"
      ]
     },
     "metadata": {
      "needs_background": "light"
     },
     "output_type": "display_data"
    }
   ],
   "source": [
    "plt.plot(s)\n",
    "plt.plot(10*Z)\n",
    "\n",
    "plt.show()"
   ]
  },
  {
   "cell_type": "markdown",
   "metadata": {},
   "source": [
    "### Test with difference in frequency"
   ]
  },
  {
   "cell_type": "code",
   "execution_count": 14,
   "metadata": {},
   "outputs": [],
   "source": [
    "#generate sine wave with different frequencies\n",
    "X_zcr = []\n",
    "X_m = []\n",
    "l = []\n",
    "\n",
    "time = np.linspace(0, 50, 1000)\n",
    "\n",
    "for i in range(0, 100):\n",
    "    \n",
    "    amp = np.random.randint(2, 30)\n",
    "    freq1 = np.random.randint(2, 10)\n",
    "    freq2 = np.random.randint(11, 20)\n",
    "    freq3 = np.random.randint(20, 100)\n",
    "    \n",
    "    s0 = amp*np.sin(freq1*time)\n",
    "    s1 = amp*np.sin(freq2*time)\n",
    "    s2 = amp*np.sin(freq3*time)\n",
    "    \n",
    "    s = np.r_[s0, s1, s2]\n",
    "    \n",
    "    #extract features of my signal (std and mean)\n",
    "#     s_m = Window_mean(s, 1, window_len=round_up_to_even(lgth/20))\n",
    "    s_zcr = Window_zcr(s, 1, window_len=round_up_to_even(len(time)/20))\n",
    "    \n",
    "    \n",
    "    X_i_zcr = [[s_i_zcr] for s_i_zcr in s_zcr]\n",
    "#     X_i_m = [[s_i_m] for s_i_m in s_m]\n",
    "    \n",
    "    X_zcr.append(X_i_zcr)\n",
    "#     X_m.append(X_i_m)\n",
    "    l.append(len(s))\n"
   ]
  },
  {
   "cell_type": "code",
   "execution_count": 15,
   "metadata": {},
   "outputs": [],
   "source": [
    "X_train_zcr = np.concatenate(X_zcr)\n",
    "# X_train_m = np.concatenate(X_m)\n",
    "# print(X[0:10])\n",
    "# X_train = X\n",
    "#train model with binary observations\n",
    "model_zcr = hmm.GaussianHMM(n_components=4).fit(X_train_zcr, l)\n",
    "# model_m = hmm.GaussianHMM(n_components=2).fit(X_train_m, l)"
   ]
  },
  {
   "cell_type": "code",
   "execution_count": 22,
   "metadata": {},
   "outputs": [
    {
     "name": "stdout",
     "output_type": "stream",
     "text": [
      "[2 2 2 ... 1 1 1]\n"
     ]
    }
   ],
   "source": [
    "#test discovering states based on a sample observation\n",
    "#generate new signal\n",
    "time1 = np.linspace(0, 50, 1000)\n",
    "time2 = np.linspace(0, 100, 2000)\n",
    "\n",
    "\n",
    "s0 = 5*np.sin(40*time2)\n",
    "s1 = 10*np.sin(time1)\n",
    "s2 = 1*np.sin(10*time1)\n",
    "\n",
    "s = np.r_[s2, s1, s0, s1]\n",
    "\n",
    "#extract features of my signal (std and mean)\n",
    "# s_m = Window_mean(s, 1, window_len=round_up_to_even(lgth/20))\n",
    "# s_std = Window_std(s, 1, window_len=round_up_to_even(lgth/20))\n",
    "s_zcr = Window_zcr(s, 1, window_len=round_up_to_even(len(time)/10))\n",
    "# s_m = Window_mean(s, 1, window_len=round_up_to_even(len(time)/20))\n",
    "\n",
    "X_test_zcr = [[s_zcr_i] for s_zcr_i in s_zcr]\n",
    "# X_test_mean = [[s_m_i] for s_m_i in s_m]\n",
    "\n",
    "Z_zcr = model_zcr.predict(X_test_zcr)\n",
    "# Z_m = model.predict(X_test_mean)\n",
    "\n",
    "Z_zcr\n",
    "print(Z_zcr)"
   ]
  },
  {
   "cell_type": "code",
   "execution_count": 23,
   "metadata": {},
   "outputs": [
    {
     "data": {
      "image/png": "[encoded data removed]",
      "text/plain": [
       "<Figure size 432x288 with 1 Axes>"
      ]
     },
     "metadata": {
      "needs_background": "light"
     },
     "output_type": "display_data"
    }
   ],
   "source": [
    "plt.plot(s)\n",
    "plt.plot(10*Z_zcr)\n",
    "# plt.plot(10*Z_m)\n",
    "plt.show()"
   ]
  },
  {
   "cell_type": "markdown",
   "metadata": {},
   "source": [
    "### Train multifeature model and evaluate preformance for different examples"
   ]
  },
  {
   "cell_type": "code",
   "execution_count": 118,
   "metadata": {},
   "outputs": [],
   "source": [
    "#generate sine wave with different frequencies\n",
    "X = []\n",
    "X_zcr = []\n",
    "X_m = []\n",
    "X_std = []\n",
    "l = []\n",
    "\n",
    "time = np.linspace(0, 50, 1000)\n",
    "\n",
    "for i in range(0, 200):\n",
    "    \n",
    "    amp = np.random.randint(2, 30)\n",
    "    freq1 = np.random.randint(2, 10)\n",
    "    freq2 = np.random.randint(11, 20)\n",
    "    freq3 = np.random.randint(20, 100)\n",
    "    \n",
    "    s0 = amp*np.sin(freq1*time)\n",
    "    s1 = amp*np.sin(freq2*time)\n",
    "    s2 = amp*np.sin(freq3*time)\n",
    "    \n",
    "    s = np.r_[s0, s1, s2]\n",
    "    \n",
    "    #extract features of my signal (std and mean)\n",
    "    s_m = Window_mean(s, 1, window_len=round_up_to_even(len(time)/20))\n",
    "    s_std = Window_std(s, 1, window_len=round_up_to_even(len(time)/20))\n",
    "    s_zcr = Window_zcr(s, 1, window_len=round_up_to_even(len(time)/20))\n",
    "    \n",
    "    \n",
    "    X_i = [[s_i_m, s_i_std, s_i_zcr] for s_i_m, s_i_std, s_i_zcr  in zip(s_m, s_std, s_zcr)]\n",
    "#   X_i_zcr = [[s_i_zcr] for s_i_zcr in s_zcr]\n",
    "    \n",
    "#     X_i_m = [[s_i_m] for s_i_m in s_m]\n",
    "    \n",
    "    X.append(X_i)\n",
    "    l.append(len(s))\n",
    "\n",
    "for i in range(0, 200):\n",
    "    \n",
    "    lgth = np.random.randint(20, 200)\n",
    "    amp = np.random.randint(2, 30)\n",
    "    noise = np.random.normal(0, 1, lgth)\n",
    "    \n",
    "    s0 = amp*noise*np.ones(lgth)\n",
    "    s1 = noise*np.ones(lgth)\n",
    "    \n",
    "    s = np.r_[s0, s1]\n",
    "    \n",
    "    #extract features of my signal (std and mean)\n",
    "    s_m = Window_mean(s, 1, window_len=round_up_to_even(lgth/20))\n",
    "    s_std = Window_std(s, 1, window_len=round_up_to_even(lgth/20))\n",
    "    s_zcr = Window_zcr(s, 1, window_len=round_up_to_even(lgth/20))\n",
    "    \n",
    "    X_i = [[s_i_m, s_i_std, s_i_zcr] for s_i_m, s_i_std, s_i_zcr in zip(s_m, s_std, s_zcr)]\n",
    "\n",
    "    X.append(X_i)\n",
    "    l.append(len(s))"
   ]
  },
  {
   "cell_type": "code",
   "execution_count": 119,
   "metadata": {},
   "outputs": [],
   "source": [
    "X_train = np.concatenate(X)\n",
    "# X_train_m = np.concatenate(X_m)\n",
    "# print(X[0:10])\n",
    "# X_train = X\n",
    "#train model with binary observations\n",
    "model_multi = hmm.GaussianHMM(n_components=4).fit(X_train, l)\n"
   ]
  },
  {
   "cell_type": "code",
   "execution_count": 128,
   "metadata": {},
   "outputs": [],
   "source": [
    "#test discovering states based on a sample observation\n",
    "#generate new signal\n",
    "time1 = np.linspace(0, 50, 10000)\n",
    "time2 = np.linspace(0, 100, 10000)\n",
    "\n",
    "\n",
    "s0 = 5*np.sin(40*time2)\n",
    "s1 = 10*np.sin(time1)\n",
    "s2 = 1*np.sin(10*time1)\n",
    "\n",
    "lgth = 100000\n",
    "\n",
    "noise = np.random.normal(0, 1, lgth)\n",
    "\n",
    "s3_0 = 10*noise*np.ones(lgth)\n",
    "s3_1 = noise*np.ones(lgth)\n"
   ]
  },
  {
   "cell_type": "markdown",
   "metadata": {},
   "source": [
    "### Test with sinusoidal signal"
   ]
  },
  {
   "cell_type": "code",
   "execution_count": 127,
   "metadata": {},
   "outputs": [
    {
     "data": {
      "image/png": "[encoded data removed]",
      "text/plain": [
       "<Figure size 432x288 with 1 Axes>"
      ]
     },
     "metadata": {
      "needs_background": "light"
     },
     "output_type": "display_data"
    }
   ],
   "source": [
    "s = np.r_[s2, s1, s0, s1]\n",
    "\n",
    "#extract features of my signal (std and mean)\n",
    "s_std = Window_std(s, 1, window_len=round_up_to_even(lgth/20))\n",
    "s_zcr = Window_zcr(s, 1, window_len=round_up_to_even(len(time)/10))\n",
    "s_m = Window_mean(s, 1, window_len=round_up_to_even(len(time)/20))\n",
    "\n",
    "X_test_zcr = [[s_m_i, s_std_i, s_zcr_i] for s_m_i, s_std_i, s_zcr_i in zip(s_m, s_std, s_zcr)]\n",
    "\n",
    "Z_zcr = model_multi.predict(X_test_zcr)\n",
    "\n",
    "plt.plot(s)\n",
    "plt.plot(10*Z_zcr)\n",
    "# plt.plot(10*Z_m)\n",
    "plt.show()"
   ]
  },
  {
   "cell_type": "markdown",
   "metadata": {},
   "source": [
    "### Test with noise signals"
   ]
  },
  {
   "cell_type": "code",
   "execution_count": 129,
   "metadata": {},
   "outputs": [
    {
     "data": {
      "image/png": "[encoded data removed]",
      "text/plain": [
       "<Figure size 432x288 with 1 Axes>"
      ]
     },
     "metadata": {
      "needs_background": "light"
     },
     "output_type": "display_data"
    }
   ],
   "source": [
    "s = np.r_[s3_0, s3_1]\n",
    "\n",
    "#extract features of my signal (std and mean)\n",
    "s_std = Window_std(s, 1, window_len=round_up_to_even(lgth/20))\n",
    "s_zcr = Window_zcr(s, 1, window_len=round_up_to_even(len(time)/10))\n",
    "s_m = Window_mean(s, 1, window_len=round_up_to_even(len(time)/20))\n",
    "\n",
    "X_test_zcr = [[s_m_i, s_std_i, 0] for s_m_i, s_std_i, s_zcr_i in zip(s_m, s_std, s_zcr)]\n",
    "\n",
    "Z_zcr = model_multi.predict(X_test_zcr)\n",
    "\n",
    "plt.plot(s)\n",
    "plt.plot(10*Z_zcr)\n",
    "# plt.plot(10*Z_m)\n",
    "plt.show()"
   ]
  },
  {
   "cell_type": "markdown",
   "metadata": {},
   "source": [
    "#### Trained the model with multifeatures (mean, std and zcr). \n",
    "When trained with these 3 features, the model answered better the clustering of sinusoidal signals. In case of noisy signals, it did not work that well. However it improves with putting the s_zcr property to zero ([s_m_i, s_std_i, 0]), which means that we can \"activate\" the presence of several features and \"deactivate\" the presence of other features as well. This can be used for the string representation.\n",
    "\n",
    "Individual feature models work better for individual kinds of changes."
   ]
  },
  {
   "cell_type": "markdown",
   "metadata": {},
   "source": [
    "### Test the 3 models finding the probability of each model in generating a type of signal\n",
    "\n",
    "Does not seem to work very well...still do not understand if the training is well done enough..."
   ]
  },
  {
   "cell_type": "code",
   "execution_count": 130,
   "metadata": {},
   "outputs": [],
   "source": [
    "#generate sine wave with different frequencies\n",
    "X = []\n",
    "X_zcr = []\n",
    "X_m = []\n",
    "X_std = []\n",
    "l = []\n",
    "\n",
    "time = np.linspace(0, 50, 1000)\n",
    "\n",
    "for i in range(0, 200):\n",
    "    \n",
    "    amp = np.random.randint(2, 30)\n",
    "    freq1 = np.random.randint(2, 10)\n",
    "    freq2 = np.random.randint(11, 20)\n",
    "    freq3 = np.random.randint(20, 100)\n",
    "    \n",
    "    s0 = amp*np.sin(freq1*time)\n",
    "    s1 = amp*np.sin(freq2*time)\n",
    "    s2 = amp*np.sin(freq3*time)\n",
    "    \n",
    "    s = np.r_[s0, s1, s2]\n",
    "    \n",
    "    #extract features of my signal (std and mean)\n",
    "    s_m = Window_mean(s, 1, window_len=round_up_to_even(len(time)/20))\n",
    "    s_std = Window_std(s, 1, window_len=round_up_to_even(len(time)/20))\n",
    "    s_zcr = Window_zcr(s, 1, window_len=round_up_to_even(len(time)/20))\n",
    "    \n",
    "    \n",
    "#     X_i = [[s_i_m, s_i_std, s_i_zcr] for s_i_m, s_i_std, s_i_zcr  in zip(s_m, s_std, s_zcr)]\n",
    "    X_i_zcr = [[s_i_zcr] for s_i_zcr in s_zcr]\n",
    "    X_i_m = [[s_i_m] for s_i_m in s_m]\n",
    "    X_i_std = [[s_i_std] for s_i_std in s_std]\n",
    "    \n",
    "#     X_i_m = [[s_i_m] for s_i_m in s_m]\n",
    "    \n",
    "    X_zcr.append(X_i_zcr)\n",
    "    X_m.append(X_i_m)\n",
    "    X_std.append(X_i_std)\n",
    "    l.append(len(s))\n"
   ]
  },
  {
   "cell_type": "code",
   "execution_count": 131,
   "metadata": {},
   "outputs": [],
   "source": [
    "X_zcr_train = np.concatenate(X_zcr)\n",
    "X_std_train = np.concatenate(X_std)\n",
    "X_m_train = np.concatenate(X_m)\n",
    "\n",
    "#train model with binary observations\n",
    "model_zcr = hmm.GaussianHMM(n_components=4).fit(X_zcr_train, l)\n",
    "model_std = hmm.GaussianHMM(n_components=4).fit(X_std_train, l)\n",
    "model_m = hmm.GaussianHMM(n_components=4).fit(X_m_train, l)"
   ]
  },
  {
   "cell_type": "code",
   "execution_count": 154,
   "metadata": {},
   "outputs": [],
   "source": [
    "#test discovering states based on a sample observation\n",
    "#generate new signal\n",
    "time1 = np.linspace(0, 50, 10000)\n",
    "time2 = np.linspace(0, 100, 10000)\n",
    "\n",
    "\n",
    "s0 = 5*np.sin(40*time1)\n",
    "s1 = 10*np.sin(time1)\n",
    "s2 = 1*np.sin(10*time1)\n",
    "\n",
    "s = np.r_[s1, s0, s1]\n",
    "\n",
    "#extract features of my signal (std and mean)\n",
    "s_std = Window_std(s, 1, window_len=round_up_to_even(len(s)/10))\n",
    "s_zcr = Window_zcr(s, 1, window_len=round_up_to_even(len(s)/10))\n",
    "s_m = Window_mean(s, 1, window_len=round_up_to_even(len(s)/20))\n",
    "\n",
    "X_test_zcr = [[s_i_zcr] for s_i_zcr in s_zcr]\n",
    "X_test_m = [[s_i_m] for s_i_m in s_m]\n",
    "X_test_std = [[s_i_std] for s_i_std in s_std]\n",
    "\n",
    "Z_zcr = model_zcr.predict(X_test_zcr)\n",
    "Z_m = model_m.predict(X_test_m)\n",
    "Z_std = model_std.predict(X_test_std)\n",
    "\n"
   ]
  },
  {
   "cell_type": "code",
   "execution_count": 155,
   "metadata": {},
   "outputs": [
    {
     "data": {
      "text/plain": [
       "[<matplotlib.lines.Line2D at 0x7fee0a13f748>]"
      ]
     },
     "execution_count": 155,
     "metadata": {},
     "output_type": "execute_result"
    },
    {
     "data": {
      "image/png": "[encoded data removed]",
      "text/plain": [
       "<Figure size 432x288 with 1 Axes>"
      ]
     },
     "metadata": {
      "needs_background": "light"
     },
     "output_type": "display_data"
    }
   ],
   "source": [
    "plt.plot(s)\n",
    "plt.plot(Z_zcr)"
   ]
  },
  {
   "cell_type": "markdown",
   "metadata": {},
   "source": [
    "### Test Check Convergence (if reaches the maximum number of iterations and is below tolerance)"
   ]
  },
  {
   "cell_type": "code",
   "execution_count": 173,
   "metadata": {},
   "outputs": [],
   "source": [
    "X = []\n",
    "l = []\n",
    "\n",
    "for i in range(0, 200):\n",
    "    \n",
    "    lgth = np.random.randint(20, 200)\n",
    "    amp = np.random.randint(2, 30)\n",
    "    noise = np.random.normal(0, 1, lgth)\n",
    "    \n",
    "    s0 = amp*noise*np.ones(lgth)\n",
    "    s1 = noise*np.ones(lgth)\n",
    "    \n",
    "    s = np.r_[s0, s1]\n",
    "    \n",
    "    #extract features of my signal (std and mean)\n",
    "    s_m = Window_mean(s, 1, window_len=round_up_to_even(lgth/20))\n",
    "    s_std = Window_std(s, 1, window_len=round_up_to_even(lgth/20))\n",
    "    \n",
    "    X_i = [[s_i_m, s_i_std] for s_i_m, s_i_std in zip(s_m, s_std)]\n",
    "\n",
    "    X.append(X_i)\n",
    "    l.append(len(s))\n",
    "    \n",
    "X_train = np.concatenate(X)\n",
    "\n",
    "#train model with binary observations\n",
    "model2 = hmm.GaussianHMM(n_components=2, n_iter=100, tol=5).fit(X_train, l)\n"
   ]
  },
  {
   "cell_type": "code",
   "execution_count": 191,
   "metadata": {},
   "outputs": [
    {
     "name": "stdout",
     "output_type": "stream",
     "text": [
      "deque([-136807.8827490165, -136804.45809040556], maxlen=2)\n",
      "True\n",
      "5\n",
      "100\n",
      "False\n",
      "<bound method ConvergenceMonitor.report of ConvergenceMonitor(\n",
      "    history=[-136807.8827490165, -136804.45809040556],\n",
      "    iter=11,\n",
      "    n_iter=100,\n",
      "    tol=5,\n",
      "    verbose=False,\n",
      ")>\n",
      "[0.04706328 0.95293672]\n",
      "<bound method GaussianHMM._accumulate_sufficient_statistics of GaussianHMM(algorithm='viterbi', covariance_type='diag', covars_prior=0.01,\n",
      "            covars_weight=1, init_params='stmc', means_prior=0, means_weight=0,\n",
      "            min_covar=0.001, n_components=2, n_iter=100, params='stmc',\n",
      "            random_state=None, startprob_prior=1.0, tol=5, transmat_prior=1.0,\n",
      "            verbose=False)>\n"
     ]
    }
   ],
   "source": [
    "print(model2.monitor_.history)\n",
    "print(model2.monitor_.converged)\n",
    "print(model2.monitor_.tol)\n",
    "print(model2.monitor_.n_iter)\n",
    "print(model2.monitor_.verbose)\n",
    "print(model2.monitor_.report)\n",
    "print(model2.startprob_)\n",
    "print(model2._accumulate_sufficient_statistics)"
   ]
  },
  {
   "cell_type": "markdown",
   "metadata": {},
   "source": [
    "### Compute log likelihood of a sequence being generated by the model"
   ]
  },
  {
   "cell_type": "code",
   "execution_count": 233,
   "metadata": {},
   "outputs": [
    {
     "data": {
      "text/plain": [
       "[<matplotlib.lines.Line2D at 0x7fee0b56af28>]"
      ]
     },
     "execution_count": 233,
     "metadata": {},
     "output_type": "execute_result"
    },
    {
     "data": {
      "image/png": "[encoded data removed]",
      "text/plain": [
       "<Figure size 432x288 with 1 Axes>"
      ]
     },
     "metadata": {
      "needs_background": "light"
     },
     "output_type": "display_data"
    }
   ],
   "source": [
    "lgth = 100\n",
    "amp = np.random.randint(2, 30)\n",
    "noise = np.random.normal(0, 1, lgth)\n",
    "\n",
    "s0 = amp*noise*np.ones(lgth)\n",
    "s1 = noise*np.ones(lgth)\n",
    "s = np.r_[s1, s0]\n",
    "\n",
    "#extract features of my signal (std and mean)\n",
    "s0_m = Window_mean(s0, 1, window_len=round_up_to_even(lgth/20))\n",
    "s0_std = Window_std(s0, 1, window_len=round_up_to_even(lgth/20))\n",
    "\n",
    "s1_m = Window_mean(s1, 1, window_len=round_up_to_even(lgth/20))\n",
    "s1_std = Window_std(s1, 1, window_len=round_up_to_even(lgth/20))\n",
    "\n",
    "s_m = Window_mean(s, 1, window_len=round_up_to_even(len(s)/20))\n",
    "s_std = Window_std(s, 1, window_len=round_up_to_even(len(s)/20))\n",
    "\n",
    "X1 = [[s_i_m, s_i_std] for s_i_m, s_i_std in zip(s1_m, s1_std)]\n",
    "l1 = len(s1)\n",
    "X0 = [[s_i_m, s_i_std] for s_i_m, s_i_std in zip(s0_m, s0_std)]\n",
    "l0 = len(s0)\n",
    "X = np.array([[s_i_m, s_i_std] for s_i_m, s_i_std in zip(s_m, s_std)])\n",
    "l = len(s)\n",
    "\n",
    "plt.plot(s0)\n",
    "plt.plot(s1)\n",
    "plt.plot(s)"
   ]
  },
  {
   "cell_type": "code",
   "execution_count": 234,
   "metadata": {},
   "outputs": [
    {
     "name": "stdout",
     "output_type": "stream",
     "text": [
      "(-617.9499921163864, array([0, 0, 0, 0, 0, 0, 0, 0, 0, 0, 0, 0, 0, 0, 0, 0, 0, 0, 0, 0, 0, 0,\n",
      "       0, 0, 0, 0, 0, 0, 0, 0, 0, 0, 0, 0, 0, 0, 0, 0, 0, 0, 0, 0, 0, 0,\n",
      "       0, 0, 0, 0, 0, 0, 0, 0, 0, 0, 0, 0, 0, 0, 0, 0, 0, 0, 0, 0, 0, 0,\n",
      "       0, 0, 0, 0, 0, 0, 0, 0, 0, 0, 0, 0, 0, 0, 0, 0, 0, 0, 0, 0, 0, 0,\n",
      "       0, 0, 0, 0, 0, 0, 0, 0, 0, 0, 1, 1, 1, 1, 1, 1, 1, 1, 1, 1, 1, 1,\n",
      "       1, 1, 1, 1, 1, 1, 1, 1, 1, 1, 1, 1, 1, 1, 1, 1, 1, 1, 1, 1, 1, 1,\n",
      "       1, 1, 1, 1, 1, 1, 1, 1, 1, 1, 1, 1, 1, 1, 1, 1, 1, 1, 1, 1, 1, 1,\n",
      "       1, 1, 1, 1, 1, 1, 1, 1, 1, 1, 1, 1, 1, 1, 1, 1, 1, 1, 1, 1, 1, 1,\n",
      "       1, 1, 1, 1, 1, 1, 1, 1, 1, 1, 1, 1, 1, 1, 1, 1, 1, 1, 1, 1, 1, 1,\n",
      "       1, 0]))\n",
      "[0 0 0 0 0 0 0 0 0 0 0 0 0 0 0 0 0 0 0 0 0 0 0 0 0 0 0 0 0 0 0 0 0 0 0 0 0\n",
      " 0 0 0 0 0 0 0 0 0 0 0 0 0 0 0 0 0 0 0 0 0 0 0 0 0 0 0 0 0 0 0 0 0 0 0 0 0\n",
      " 0 0 0 0 0 0 0 0 0 0 0 0 0 0 0 0 0 0 0 0 0 0 0 0 1 1 1 1 1 1 1 1 1 1 1 1 1\n",
      " 1 1 1 1 1 1 1 1 1 1 1 1 1 1 1 1 1 1 1 1 1 1 1 1 1 1 1 1 1 1 1 1 1 1 1 1 1\n",
      " 1 1 1 1 1 1 1 1 1 1 1 1 1 1 1 1 1 1 1 1 1 1 1 1 1 1 1 1 1 1 1 1 1 1 1 1 1\n",
      " 1 1 1 1 1 1 1 1 1 1 1 1 1 1 0]\n",
      "[[-2.33773065e+00 -5.87350623e+00]\n",
      " [-2.33773065e+00 -5.87350623e+00]\n",
      " [-1.87269517e+00 -5.86238993e+00]\n",
      " [-1.15153696e+00 -5.85789723e+00]\n",
      " [-1.68021469e-01 -5.86987441e+00]\n",
      " [ 4.87896347e-01 -5.89770694e+00]\n",
      " [ 5.48133549e-01 -5.92903510e+00]\n",
      " [ 8.41883413e-01 -5.93957515e+00]\n",
      " [ 1.16434025e+00 -5.92616009e+00]\n",
      " [ 7.66547420e-01 -5.90660495e+00]\n",
      " [ 1.42326685e-01 -5.89564556e+00]\n",
      " [ 1.09602800e-01 -5.90385276e+00]\n",
      " [ 4.14145570e-01 -5.93362195e+00]\n",
      " [ 2.22361057e-01 -5.95558334e+00]\n",
      " [ 2.08038384e-01 -5.92522084e+00]\n",
      " [-5.92771935e-01 -5.87992695e+00]\n",
      " [-1.81174286e+00 -5.84612317e+00]\n",
      " [-2.31935669e+00 -5.83307026e+00]\n",
      " [-1.53506581e+00 -5.84322640e+00]\n",
      " [-8.93011027e-01 -5.85718748e+00]\n",
      " [-1.95022188e+00 -5.84532446e+00]\n",
      " [-3.90696106e+00 -5.82333303e+00]\n",
      " [-3.88090562e+00 -5.82505873e+00]\n",
      " [-1.39460507e+00 -5.85488172e+00]\n",
      " [ 6.57378688e-01 -5.89461291e+00]\n",
      " [ 1.04015088e+00 -5.92549919e+00]\n",
      " [ 8.70812731e-01 -5.94898288e+00]\n",
      " [ 7.83217705e-01 -5.96311223e+00]\n",
      " [ 1.09029896e+00 -5.94894487e+00]\n",
      " [ 1.17752252e+00 -5.92728904e+00]\n",
      " [ 9.60384939e-01 -5.91685148e+00]\n",
      " [ 7.28298971e-01 -5.91806471e+00]\n",
      " [ 7.29955142e-01 -5.91978476e+00]\n",
      " [ 9.25594443e-01 -5.91430634e+00]\n",
      " [ 1.00177936e+00 -5.91111238e+00]\n",
      " [ 9.06558844e-01 -5.92105948e+00]\n",
      " [ 9.44937228e-01 -5.93778305e+00]\n",
      " [ 1.06548187e+00 -5.95052729e+00]\n",
      " [ 1.11866166e+00 -5.95341957e+00]\n",
      " [ 1.09602365e+00 -5.95200891e+00]\n",
      " [ 1.07584051e+00 -5.95102705e+00]\n",
      " [ 1.15473018e+00 -5.94404399e+00]\n",
      " [ 1.19205323e+00 -5.93103610e+00]\n",
      " [ 1.09934637e+00 -5.91773621e+00]\n",
      " [ 9.70968233e-01 -5.90877065e+00]\n",
      " [ 9.26495461e-01 -5.90842389e+00]\n",
      " [ 9.84959716e-01 -5.91622173e+00]\n",
      " [ 9.93115936e-01 -5.91485183e+00]\n",
      " [ 6.13887372e-01 -5.89247382e+00]\n",
      " [-9.33168787e-02 -5.87312605e+00]\n",
      " [-3.51392066e-02 -5.87823662e+00]\n",
      " [ 7.48666748e-01 -5.90727994e+00]\n",
      " [ 1.11244991e+00 -5.94162162e+00]\n",
      " [ 1.10853188e+00 -5.95424553e+00]\n",
      " [ 1.14015974e+00 -5.94935439e+00]\n",
      " [ 1.09713953e+00 -5.94816485e+00]\n",
      " [ 9.46341493e-01 -5.95173250e+00]\n",
      " [ 8.17691774e-01 -5.95096679e+00]\n",
      " [ 7.39644691e-01 -5.94604729e+00]\n",
      " [ 6.91380069e-01 -5.94706839e+00]\n",
      " [ 5.46042415e-01 -5.96188997e+00]\n",
      " [ 7.59686892e-02 -5.98442397e+00]\n",
      " [-8.09639058e-03 -5.98794297e+00]\n",
      " [ 4.39679230e-01 -5.97171947e+00]\n",
      " [ 9.09826718e-01 -5.95511735e+00]\n",
      " [ 1.20067932e+00 -5.93861629e+00]\n",
      " [ 8.86196653e-01 -5.92045637e+00]\n",
      " [ 5.78761741e-02 -5.90611269e+00]\n",
      " [-4.89028434e-01 -5.89940436e+00]\n",
      " [-5.32968675e-01 -5.89790463e+00]\n",
      " [-4.24447023e-01 -5.89389284e+00]\n",
      " [-2.33273769e-01 -5.89216873e+00]\n",
      " [ 1.71205479e-01 -5.90741555e+00]\n",
      " [ 3.91129925e-01 -5.93476284e+00]\n",
      " [ 4.04993753e-01 -5.94496154e+00]\n",
      " [ 4.72948722e-01 -5.93319314e+00]\n",
      " [ 5.21434273e-01 -5.92136505e+00]\n",
      " [ 5.76026607e-01 -5.90768403e+00]\n",
      " [ 3.39658049e-01 -5.88646971e+00]\n",
      " [ 9.19763915e-03 -5.87414449e+00]\n",
      " [ 3.29164259e-01 -5.88299002e+00]\n",
      " [ 9.13816693e-01 -5.90646768e+00]\n",
      " [ 8.41247411e-01 -5.92397338e+00]\n",
      " [ 6.13691142e-02 -5.92625528e+00]\n",
      " [-6.85218976e-01 -5.92496174e+00]\n",
      " [-8.47785917e-01 -5.92797053e+00]\n",
      " [-5.89653194e-01 -5.93203239e+00]\n",
      " [-3.09105328e-01 -5.93421940e+00]\n",
      " [-7.93166483e-02 -5.93260154e+00]\n",
      " [ 3.49641263e-01 -5.92586568e+00]\n",
      " [ 8.49958580e-01 -5.91439589e+00]\n",
      " [ 8.74633581e-01 -5.90467034e+00]\n",
      " [ 4.41572697e-01 -5.90719345e+00]\n",
      " [ 1.12279615e-01 -5.92509542e+00]\n",
      " [ 6.40639813e-02 -5.95212663e+00]\n",
      " [ 1.58085024e-01 -5.97324563e+00]\n",
      " [ 4.35905891e-01 -5.97473087e+00]\n",
      " [-1.49927833e+00 -5.88419613e+00]\n",
      " [-7.88655044e+01 -5.52903078e+00]\n",
      " [-5.10145644e+02 -5.24472846e+00]\n",
      " [-1.59970085e+03 -5.66743431e+00]\n",
      " [-3.03175128e+03 -6.75885926e+00]\n",
      " [-3.97961165e+03 -7.50629433e+00]\n",
      " [-3.99766240e+03 -7.33010252e+00]\n",
      " [-3.27172384e+03 -6.60663912e+00]\n",
      " [-2.31950602e+03 -6.12079826e+00]\n",
      " [-1.56535645e+03 -5.99276435e+00]\n",
      " [-1.17232136e+03 -5.64741060e+00]\n",
      " [-1.32415885e+03 -5.43940888e+00]\n",
      " [-1.96911394e+03 -5.86972984e+00]\n",
      " [-2.52424155e+03 -6.43863583e+00]\n",
      " [-2.34957231e+03 -6.47312503e+00]\n",
      " [-1.50698695e+03 -6.08498473e+00]\n",
      " [-1.08218329e+03 -6.05740071e+00]\n",
      " [-1.80372626e+03 -6.32559610e+00]\n",
      " [-3.24245579e+03 -7.05541609e+00]\n",
      " [-4.60503322e+03 -7.85228447e+00]\n",
      " [-5.14731690e+03 -8.11886789e+00]\n",
      " [-4.54073224e+03 -7.56189318e+00]\n",
      " [-3.91675806e+03 -7.14397119e+00]\n",
      " [-4.70232260e+03 -7.94520694e+00]\n",
      " [-6.14820811e+03 -9.33059083e+00]\n",
      " [-6.09764838e+03 -9.33696101e+00]\n",
      " [-4.21638549e+03 -7.56284577e+00]\n",
      " [-2.30443125e+03 -5.96476922e+00]\n",
      " [-1.39607119e+03 -5.55720623e+00]\n",
      " [-9.24892758e+02 -5.52758349e+00]\n",
      " [-6.33125818e+02 -5.43879232e+00]\n",
      " [-8.21051395e+02 -5.32464295e+00]\n",
      " [-1.29074828e+03 -5.42087081e+00]\n",
      " [-1.64371730e+03 -5.66785274e+00]\n",
      " [-1.73141152e+03 -5.87666191e+00]\n",
      " [-1.69067357e+03 -5.86895143e+00]\n",
      " [-1.71996541e+03 -5.70744228e+00]\n",
      " [-1.75251752e+03 -5.64627273e+00]\n",
      " [-1.56399270e+03 -5.70177357e+00]\n",
      " [-1.15308622e+03 -5.56277566e+00]\n",
      " [-7.95523814e+02 -5.33066745e+00]\n",
      " [-7.03727906e+02 -5.25009785e+00]\n",
      " [-7.50236704e+02 -5.28850239e+00]\n",
      " [-7.84030746e+02 -5.31859699e+00]\n",
      " [-9.09637069e+02 -5.31568454e+00]\n",
      " [-1.19604926e+03 -5.38445708e+00]\n",
      " [-1.55170684e+03 -5.53748382e+00]\n",
      " [-1.82339696e+03 -5.67855184e+00]\n",
      " [-1.85456713e+03 -5.71939200e+00]\n",
      " [-1.64589520e+03 -5.64738310e+00]\n",
      " [-1.67335226e+03 -5.64411684e+00]\n",
      " [-2.37426989e+03 -6.00088816e+00]\n",
      " [-3.15962776e+03 -6.56259652e+00]\n",
      " [-3.01291934e+03 -6.54078940e+00]\n",
      " [-1.96188956e+03 -5.88534238e+00]\n",
      " [-9.82849045e+02 -5.37533113e+00]\n",
      " [-6.88735037e+02 -5.24971702e+00]\n",
      " [-7.90723104e+02 -5.27580492e+00]\n",
      " [-8.41318683e+02 -5.32911377e+00]\n",
      " [-8.32586295e+02 -5.43285321e+00]\n",
      " [-9.15099688e+02 -5.56208256e+00]\n",
      " [-1.07050002e+03 -5.68526519e+00]\n",
      " [-1.07034948e+03 -5.72048604e+00]\n",
      " [-7.90279462e+02 -5.68705669e+00]\n",
      " [-4.81939065e+02 -5.77927862e+00]\n",
      " [-4.38388875e+02 -5.79377457e+00]\n",
      " [-6.07573950e+02 -5.64712304e+00]\n",
      " [-7.70309814e+02 -5.42850734e+00]\n",
      " [-1.01356654e+03 -5.32032065e+00]\n",
      " [-1.58787758e+03 -5.72309182e+00]\n",
      " [-2.32207541e+03 -6.51915056e+00]\n",
      " [-2.74255613e+03 -7.01855251e+00]\n",
      " [-2.79857164e+03 -7.05710329e+00]\n",
      " [-2.83881666e+03 -6.95192265e+00]\n",
      " [-2.78618634e+03 -6.77423724e+00]\n",
      " [-2.23696409e+03 -6.41418261e+00]\n",
      " [-1.49133301e+03 -6.09819147e+00]\n",
      " [-1.24461764e+03 -6.00033328e+00]\n",
      " [-1.48860238e+03 -6.03358980e+00]\n",
      " [-1.74231256e+03 -6.05494707e+00]\n",
      " [-2.03533901e+03 -6.04309315e+00]\n",
      " [-2.64262671e+03 -6.23594297e+00]\n",
      " [-3.08833233e+03 -6.47467686e+00]\n",
      " [-2.73078001e+03 -6.23013682e+00]\n",
      " [-1.90283204e+03 -5.73452860e+00]\n",
      " [-1.52708028e+03 -5.74835868e+00]\n",
      " [-1.85058202e+03 -6.45548811e+00]\n",
      " [-2.24314783e+03 -7.14978882e+00]\n",
      " [-2.25175152e+03 -7.28471898e+00]\n",
      " [-2.03119181e+03 -7.02318772e+00]\n",
      " [-1.84363946e+03 -6.74962257e+00]\n",
      " [-1.77008253e+03 -6.54802582e+00]\n",
      " [-1.72007074e+03 -6.19177221e+00]\n",
      " [-1.74708179e+03 -5.77778585e+00]\n",
      " [-1.96643064e+03 -5.77101611e+00]\n",
      " [-2.12488935e+03 -6.16262252e+00]\n",
      " [-1.87286470e+03 -6.41493834e+00]\n",
      " [-1.26154199e+03 -6.25571672e+00]\n",
      " [-7.10994460e+02 -5.89092097e+00]\n",
      " [-5.36889832e+02 -5.60298215e+00]\n",
      " [-6.03638355e+02 -5.45644170e+00]\n",
      " [-6.16215627e+02 -5.43248298e+00]\n",
      " [-1.46163690e+00 -6.03485141e+00]]\n"
     ]
    }
   ],
   "source": [
    "print(model2.decode(X))\n",
    "print(model2.predict(X))\n",
    "print(model2._compute_log_likelihood(X))"
   ]
  },
  {
   "cell_type": "markdown",
   "metadata": {},
   "source": [
    "### Find punctual changes in states in time series"
   ]
  },
  {
   "cell_type": "code",
   "execution_count": null,
   "metadata": {},
   "outputs": [],
   "source": []
  }
 ],
 "metadata": {
  "kernelspec": {
   "display_name": "Python 3",
   "language": "python",
   "name": "python3"
  },
  "language_info": {
   "codemirror_mode": {
    "name": "ipython",
    "version": 3
   },
   "file_extension": ".py",
   "mimetype": "text/x-python",
   "name": "python",
   "nbconvert_exporter": "python",
   "pygments_lexer": "ipython3",
   "version": "3.6.8"
  }
 },
 "nbformat": 4,
 "nbformat_minor": 1
}
