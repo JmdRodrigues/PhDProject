{
 "cells": [
  {
   "cell_type": "code",
   "execution_count": null,
   "metadata": {
    "collapsed": true
   },
   "outputs": [],
   "source": [
    "from GrammarofTime.SSTS.backend import gotstools as gt\n",
    "from tools.load_tools import loadH5\n",
    "from Hui_SuperProject.parser_reader import read_string\n",
    "from tools.processing_tools import *\n",
    "from tools.string_processing_tools import *\n",
    "import matplotlib.pyplot as plt\n",
    "# from novainstrumentation import niplot, multilineplot\n",
    "from tools.plot_tools import *\n",
    "    "
   ]
  },
  {
   "cell_type": "code",
   "execution_count": null,
   "metadata": {},
   "outputs": [],
   "source": [
    "example_path = \"/media/jeanraltique/FishStory/Projectos/Doutoramento/PhDSuperProjectPython/Hui_SuperProject/Data_Examples/\"\n",
    "\n",
    "signal = loadH5(example_path+\"arthrokinemat_2018_06_02_23_51_55.h5\")\n",
    "fs = 1000\n",
    "b = 10\n",
    "ch1 = signal[b*fs:, 5]\n",
    "\n",
    "#pre process\n",
    "ch1_raw = ch1\n",
    "ch1 = smooth(mean_norm(ch1), 1000)  "
   ]
  },
  {
   "cell_type": "code",
   "execution_count": null,
   "metadata": {},
   "outputs": [],
   "source": [
    "multilineplot(ch1, len(ch1)//9)\n",
    "plt.show()"
   ]
  },
  {
   "cell_type": "code",
   "execution_count": null,
   "metadata": {},
   "outputs": [],
   "source": []
  },
  {
   "cell_type": "code",
   "execution_count": null,
   "metadata": {},
   "outputs": [],
   "source": []
  }
 ],
 "metadata": {
  "kernelspec": {
   "display_name": "Python 2",
   "language": "python",
   "name": "python2"
  },
  "language_info": {
   "codemirror_mode": {
    "name": "ipython",
    "version": 2
   },
   "file_extension": ".py",
   "mimetype": "text/x-python",
   "name": "python",
   "nbconvert_exporter": "python",
   "pygments_lexer": "ipython2",
   "version": "2.7.6"
  }
 },
 "nbformat": 4,
 "nbformat_minor": 0
}
